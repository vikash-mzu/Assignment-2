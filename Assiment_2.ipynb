{
 "cells": [
  {
   "cell_type": "code",
   "execution_count": 5,
   "id": "8c588e33-0d88-416b-9545-02a7a1a2784d",
   "metadata": {},
   "outputs": [],
   "source": [
    "#Q1. How do you comment code in Python? What are the different types of comments?\n",
    "'''\n",
    "Solution\n",
    "\n",
    "There are two main types of comments in Python:\n",
    "\n",
    "Single-line comments\n",
    "Multi-line comments\n",
    "\n",
    "\n",
    "1. Single-line Comments\n",
    "Single-line comments start with the hash character (#) and extend to the end of the line. They are typically used for short explanations or notes.\n",
    "# This is a single-line comment\n",
    "x = 10  # This is an inline comment\n",
    "\n",
    "2. Multi-line Comments\n",
    "Python does not have a distinct syntax for multi-line comments like some other languages.\n",
    "Instead, multi-line comments are usually achieved using multiple single-line comments or using multi-line string literals (triple quotes). \n",
    "Although multi-line string literals are primarily used for documentation strings (docstrings), they can also serve as multi-line comments.\n",
    "\n",
    "\n",
    "This is a multi-line comment\n",
    "spanning multiple lines.\n",
    "Using triple quotes.\n",
    "'''\n",
    "z = 30\n",
    "\n",
    "\n"
   ]
  },
  {
   "cell_type": "code",
   "execution_count": 7,
   "id": "a4ad71c8-07ef-4a8a-a3cb-ad57603b4697",
   "metadata": {},
   "outputs": [
    {
     "data": {
      "text/plain": [
       "'\\nsolution\\nIn Python, variables are used to store data that can be referenced and manipulated throughout a program. \\nA variable is essentially a name that is assigned to a value, and this name can be used to access and manipulate the value later.\\n\\nDeclaring and Assigning Values to Variables\\nIn Python, you declare a variable by simply assigning a value to it using the assignment operator (=). \\nPython is dynamically typed, which means you don\\'t need to explicitly declare the type of a variable. \\nThe type is inferred from the value assigned to it\\nvariable_name = value\\nage = 25\\nname = \"John\"\\nfruits = [\"apple\", \"banana\", \"cherry\"]\\nperson = {\"name\": \"Alice\", \"age\": 30}\\n\\n\\n'"
      ]
     },
     "execution_count": 7,
     "metadata": {},
     "output_type": "execute_result"
    }
   ],
   "source": [
    "#Q2. What are variables in Python? How do you declare and assign values to variables?\n",
    "'''\n",
    "solution\n",
    "In Python, variables are used to store data that can be referenced and manipulated throughout a program. \n",
    "A variable is essentially a name that is assigned to a value, and this name can be used to access and manipulate the value later.\n",
    "\n",
    "Declaring and Assigning Values to Variables\n",
    "In Python, you declare a variable by simply assigning a value to it using the assignment operator (=). \n",
    "Python is dynamically typed, which means you don't need to explicitly declare the type of a variable. \n",
    "The type is inferred from the value assigned to it\n",
    "variable_name = value\n",
    "age = 25\n",
    "name = \"John\"\n",
    "fruits = [\"apple\", \"banana\", \"cherry\"]\n",
    "person = {\"name\": \"Alice\", \"age\": 30}\n",
    "\n",
    "\n",
    "'''"
   ]
  },
  {
   "cell_type": "code",
   "execution_count": 9,
   "id": "6ac4cf15-86c8-4420-9fbf-31d1b73c1285",
   "metadata": {},
   "outputs": [
    {
     "data": {
      "text/plain": [
       "'\\nsolution\\n\\nIn Python, you can convert one data type to another using built-in functions. \\nThis process is known as type casting or type conversion. \\nHere are some common type conversions:\\nfloat_value = 3.14\\nint_value = int(float_value)  # int_value will be 3\\n\\nint_value = 10\\nfloat_value = float(int_value)  # float_value will be 10.0\\n\\n\\nint_value = 42\\nstr_value = str(int_value)  # str_value will be \"42\"\\n\\nfloat_value = 3.14\\nstr_value = str(float_value)  # str_value will be \"3.14\"\\n\\n'"
      ]
     },
     "execution_count": 9,
     "metadata": {},
     "output_type": "execute_result"
    }
   ],
   "source": [
    "#Q3. How do you convert one data type to another in Python?\n",
    "'''\n",
    "solution\n",
    "\n",
    "In Python, you can convert one data type to another using built-in functions. \n",
    "This process is known as type casting or type conversion. \n",
    "Here are some common type conversions:\n",
    "float_value = 3.14\n",
    "int_value = int(float_value)  # int_value will be 3\n",
    "\n",
    "int_value = 10\n",
    "float_value = float(int_value)  # float_value will be 10.0\n",
    "\n",
    "\n",
    "int_value = 42\n",
    "str_value = str(int_value)  # str_value will be \"42\"\n",
    "\n",
    "float_value = 3.14\n",
    "str_value = str(float_value)  # str_value will be \"3.14\"\n",
    "\n",
    "'''\n"
   ]
  },
  {
   "cell_type": "code",
   "execution_count": 13,
   "id": "d9ec33fc-64b4-479c-a252-87a987ba3370",
   "metadata": {},
   "outputs": [
    {
     "ename": "SyntaxError",
     "evalue": "(unicode error) 'unicodeescape' codec can't decode bytes in position 408-409: truncated \\UXXXXXXXX escape (3470221363.py, line 3)",
     "output_type": "error",
     "traceback": [
      "\u001b[1;36m  Cell \u001b[1;32mIn[13], line 3\u001b[1;36m\u001b[0m\n\u001b[1;33m    '''\u001b[0m\n\u001b[1;37m    ^\u001b[0m\n\u001b[1;31mSyntaxError\u001b[0m\u001b[1;31m:\u001b[0m (unicode error) 'unicodeescape' codec can't decode bytes in position 408-409: truncated \\UXXXXXXXX escape\n"
     ]
    }
   ],
   "source": [
    "#Q4. How do you write and execute a Python script from the command line?\n",
    "\n",
    "'''\n",
    "solution\n",
    "\n",
    "# example_script.py\n",
    "\n",
    "def greet(name):\n",
    "    return f\"Hello, {name}!\"\n",
    "\n",
    "if __name__ == \"__main__\":\n",
    "    name = input(\"Enter your name: \")\n",
    "    print(greet(name))\n",
    "\n",
    "\n",
    "Open the command line: Open your command prompt (Windows) or terminal (MacOS/Linux).\n",
    "\n",
    "Navigate to the directory: Use the cd command to navigate to the directory where your Python script is saved. \n",
    "For example, if your script is saved in C:\\Users\\YourUsername\\scripts, you would type:\n",
    "\n",
    "cd C:\\Users\\YourUsername\\scripts\n",
    "\n",
    "\n",
    "'''"
   ]
  },
  {
   "cell_type": "code",
   "execution_count": null,
   "id": "700d7192-3d5f-4094-b89e-85506054ceb9",
   "metadata": {},
   "outputs": [],
   "source": [
    "#Q5. Given a list my_list = [1, 2, 3, 4, 5], write the code to slice the list and obtain the sub-list [2, 3].\n",
    "'''\n",
    "Solution\n",
    "\n",
    "To obtain the sub-list [2, 3] from the list my_list = [1, 2, 3, 4, 5], you can use list slicing in Python. List slicing allows you to create a new list that is a subset of the original list based on specified indices.\n",
    "\n",
    "Here's how you can slice my_list to get [2, 3]:\n",
    "\n",
    "my_list = [1, 2, 3, 4, 5]\n",
    "\n",
    "# Slice to get [2, 3]\n",
    "sub_list = my_list[1:3]\n",
    "\n",
    "print(sub_list)  # Output: [2, 3]\n",
    "\n",
    "'''"
   ]
  },
  {
   "cell_type": "code",
   "execution_count": 15,
   "id": "b5838114-6172-481d-a093-2e82711f4d33",
   "metadata": {},
   "outputs": [
    {
     "data": {
      "text/plain": [
       "\"\\n# Solution\\n# Using the 'j' suffix\\nz1 = 3 + 4j\\nprint(z1)  # Output: (3+4j)\\n\\n# Using the 'J' suffix (capitalized)\\nz2 = 2.5 - 1.6J\\nprint(z2)  # Output: (2.5-1.6j)\\n\\n# Using variables for real and imaginary parts\\na = 1\\nb = 2\\nz3 = a + b * 1j\\nprint(z3)  # Output: (1+2j)\\n\\n\\n\""
      ]
     },
     "execution_count": 15,
     "metadata": {},
     "output_type": "execute_result"
    }
   ],
   "source": [
    "#Q6. What is a complex number in mathematics, and how is it represented in Python?\n",
    "'''\n",
    "# Solution\n",
    "# Using the 'j' suffix\n",
    "z1 = 3 + 4j\n",
    "print(z1)  # Output: (3+4j)\n",
    "\n",
    "# Using the 'J' suffix (capitalized)\n",
    "z2 = 2.5 - 1.6J\n",
    "print(z2)  # Output: (2.5-1.6j)\n",
    "\n",
    "# Using variables for real and imaginary parts\n",
    "a = 1\n",
    "b = 2\n",
    "z3 = a + b * 1j\n",
    "print(z3)  # Output: (1+2j)\n",
    "\n",
    "\n",
    "'''"
   ]
  },
  {
   "cell_type": "code",
   "execution_count": 17,
   "id": "d69afba1-7f84-41bf-ba4b-841132b43169",
   "metadata": {},
   "outputs": [],
   "source": [
    "#Q7. What is the correct way to declare a variable named age and assign the value 25 to it?\n",
    "'''\n",
    "Solution\n",
    "\n",
    "\n",
    "'''\n",
    "name = \"John\"  # Assigning a string value\n",
    "height = 180.5  # Assigning a float value\n",
    "is_student = True  # Assigning a boolean value"
   ]
  },
  {
   "cell_type": "code",
   "execution_count": 19,
   "id": "e7e3d7bb-6263-418b-b384-21f6435480cb",
   "metadata": {},
   "outputs": [
    {
     "data": {
      "text/plain": [
       "'\\nSolution\\n\\n\\npi = 3.14159\\ntemperature = 25.5\\ntax_rate = 0.08\\n\\nprice = 9.99\\nThis creates a variable named price of type float, representing a floating-point number with a value of 9.99.\\n\\n'"
      ]
     },
     "execution_count": 19,
     "metadata": {},
     "output_type": "execute_result"
    }
   ],
   "source": [
    "#Q8. Declare a variable named price and assign the value 9.99 to it. What data type does this variable belong to?\n",
    "\n",
    "'''\n",
    "Solution\n",
    "\n",
    "\n",
    "pi = 3.14159\n",
    "temperature = 25.5\n",
    "tax_rate = 0.08\n",
    "\n",
    "price = 9.99\n",
    "This creates a variable named price of type float, representing a floating-point number with a value of 9.99.\n",
    "\n",
    "'''\n"
   ]
  },
  {
   "cell_type": "code",
   "execution_count": 21,
   "id": "843c9daa-ee4e-4c6c-adb2-686050110d94",
   "metadata": {},
   "outputs": [
    {
     "name": "stdout",
     "output_type": "stream",
     "text": [
      "John Doe\n"
     ]
    }
   ],
   "source": [
    "#Q9. Create a variable named name and assign your full name to it as a string. How would you print the value of this variable?\n",
    "\n",
    "name = \"John Doe\"\n",
    "print(name)  # Output: John Doe\n"
   ]
  },
  {
   "cell_type": "code",
   "execution_count": 23,
   "id": "4765b1c6-91b9-4ff4-8c4c-2752c54f421b",
   "metadata": {},
   "outputs": [
    {
     "name": "stdout",
     "output_type": "stream",
     "text": [
      "World\n"
     ]
    }
   ],
   "source": [
    "#Q10. Given the string \"Hello, World!\", extract the substring \"World\".\n",
    "# Given string\n",
    "my_string = \"Hello, World!\"\n",
    "\n",
    "# Extracting substring using slicing\n",
    "substring = my_string[7:12]\n",
    "\n",
    "# Print the substring\n",
    "print(substring)  # Output: World\n"
   ]
  },
  {
   "cell_type": "code",
   "execution_count": 27,
   "id": "09a9893b-fd68-4299-97be-3d5614493dff",
   "metadata": {},
   "outputs": [],
   "source": [
    "#Q11. Create a variable named \"is_student\" and assign it a boolean value indicating whether you are currently a student or not.\n",
    "is_student = True  # or False\n",
    "#Variable Declaration: Use the variable name is_student.\n",
    "#Value Assignment: Assign True or False based on whether you are currently a student or not.\n",
    "#Printing the Value: Use the print() function to display the value of the variable is_student."
   ]
  },
  {
   "cell_type": "code",
   "execution_count": null,
   "id": "19818ac9-604b-42c3-a6c1-2ae630cdff4d",
   "metadata": {},
   "outputs": [],
   "source": []
  }
 ],
 "metadata": {
  "kernelspec": {
   "display_name": "Python 3 (ipykernel)",
   "language": "python",
   "name": "python3"
  },
  "language_info": {
   "codemirror_mode": {
    "name": "ipython",
    "version": 3
   },
   "file_extension": ".py",
   "mimetype": "text/x-python",
   "name": "python",
   "nbconvert_exporter": "python",
   "pygments_lexer": "ipython3",
   "version": "3.12.4"
  }
 },
 "nbformat": 4,
 "nbformat_minor": 5
}
